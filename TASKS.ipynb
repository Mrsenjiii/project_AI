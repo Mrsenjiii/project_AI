{
  "cells": [
    {
      "cell_type": "markdown",
      "metadata": {
        "id": "3-L0-5wVqkHf"
      },
      "source": [
        "#### Installing Libraries"
      ]
    },
    {
      "cell_type": "code",
      "execution_count": 1,
      "metadata": {
        "id": "wdgcxY9jJ90n"
      },
      "outputs": [],
      "source": [
        "!pip install ffmpeg | tee /dev/null > /dev/null\n",
        "!pip install num2words | tee /dev/null > /dev/null\n",
        "!pip install pydub | tee /dev/null > /dev/null\n",
        "!pip install yt-dlp | tee /dev/null > /dev/null\n",
        "!pip install pdfminer.six | tee /dev/null > /dev/null"
      ]
    },
    {
      "cell_type": "markdown",
      "metadata": {
        "id": "jSA8r-nUrEhl"
      },
      "source": [
        "#### Imports"
      ]
    },
    {
      "cell_type": "code",
      "execution_count": 2,
      "metadata": {
        "id": "MuNOiASeGaW_"
      },
      "outputs": [],
      "source": [
        "from google.colab import drive\n",
        "import requests\n",
        "import json\n",
        "import pprint\n",
        "import subprocess\n",
        "import shutil\n",
        "from concurrent.futures import ThreadPoolExecutor\n",
        "from pathlib import Path\n",
        "from num2words import num2words\n",
        "from pydub import AudioSegment\n",
        "from concurrent.futures import ProcessPoolExecutor\n",
        "import time\n",
        "from pydub.utils import mediainfo\n",
        "import os\n",
        "from pdfminer.high_level import extract_text\n",
        "import string"
      ]
    },
    {
      "cell_type": "code",
      "execution_count": 4,
      "metadata": {
        "id": "4JewRoDPLgfb"
      },
      "outputs": [],
      "source": [
        "n_files = 1 ## number of files you want to download -1 for all"
      ]
    },
    {
      "cell_type": "markdown",
      "metadata": {
        "id": "eY_3QydHGrRQ"
      },
      "source": [
        "### Imports"
      ]
    },
    {
      "cell_type": "markdown",
      "metadata": {
        "id": "qp6SlWLrFRg9"
      },
      "source": [
        "#Task-1\n"
      ]
    },
    {
      "cell_type": "markdown",
      "metadata": {
        "id": "L6iHPlB0FNoP"
      },
      "source": [
        "### Mounting Drive"
      ]
    },
    {
      "cell_type": "code",
      "execution_count": 5,
      "metadata": {
        "colab": {
          "base_uri": "https://localhost:8080/"
        },
        "id": "sigPrUg7EDJf",
        "outputId": "8f708e7b-a27e-4669-b8e7-9a0c4e73f168"
      },
      "outputs": [
        {
          "name": "stdout",
          "output_type": "stream",
          "text": [
            "Mounted at /content/drive\n"
          ]
        }
      ],
      "source": [
        "drive.mount('/content/drive')"
      ]
    },
    {
      "cell_type": "markdown",
      "metadata": {
        "id": "1O6_kX0qF47M"
      },
      "source": [
        "### Requesting for Video,Transcript,Audio Urls"
      ]
    },
    {
      "cell_type": "code",
      "execution_count": 7,
      "metadata": {
        "colab": {
          "base_uri": "https://localhost:8080/"
        },
        "id": "hoVzv8MNFgwg",
        "outputId": "f5c21d30-bb0e-461a-885e-937a7d3525a7"
      },
      "outputs": [
        {
          "name": "stdout",
          "output_type": "stream",
          "text": [
            "Enter the URL: 101105084\n"
          ]
        }
      ],
      "source": [
        "course_id = input(\"Enter the URL: \")\n",
        "url = f\"https://tools.nptel.ac.in/npteldata/downloads.php?id={course_id}\"\n",
        "\n",
        "\n",
        "response = requests.get(url)\n",
        "\n",
        "if response.status_code == 200:\n",
        "    try:\n",
        "        data = response.json()\n",
        "        # print(data)\n",
        "    except json.JSONDecodeError:\n",
        "        print(\"Received a successful response, but the content is not valid JSON.\")\n",
        "        print(\"Response content:\", response.text)  # Print the raw response for debugging\n",
        "elif response.status_code == 404:\n",
        "    print(\"Error: The requested resource was not found (404).\")\n",
        "elif response.status_code == 500:\n",
        "    print(\"Error: Internal Server Error (500). The server encountered an unexpected condition.\")\n",
        "else:\n",
        "    print(f\"Failed to retrieve data. Status code: {response.status_code}\")\n",
        "    print(f\"Reason: {response.reason}\") # Print the reason for the error."
      ]
    },
    {
      "cell_type": "code",
      "execution_count": 8,
      "metadata": {
        "colab": {
          "base_uri": "https://localhost:8080/"
        },
        "id": "UBlD6YhM98Yu",
        "outputId": "f4d23f6a-8ef5-42cb-8d6e-58aaca2a5608"
      },
      "outputs": [
        {
          "name": "stdout",
          "output_type": "stream",
          "text": [
            "course url:  https://tools.nptel.ac.in/npteldata/downloads.php?id=101105084\n"
          ]
        }
      ],
      "source": [
        "print('course url: ' ,  f\"https://tools.nptel.ac.in/npteldata/downloads.php?id={course_id}\")"
      ]
    },
    {
      "cell_type": "code",
      "execution_count": 9,
      "metadata": {
        "colab": {
          "base_uri": "https://localhost:8080/"
        },
        "id": "5UxHmX4jLkLx",
        "outputId": "622aa6c5-53f1-4e35-fab5-bd31bc8f32ac"
      },
      "outputs": [
        {
          "data": {
            "text/plain": [
              "dict_keys(['title', 'course_id', 'is_public', 'course_downloads', 'transcripts', 'audio', 'books', 'assignments'])"
            ]
          },
          "execution_count": 9,
          "metadata": {},
          "output_type": "execute_result"
        }
      ],
      "source": [
        "data.get('data').keys()"
      ]
    },
    {
      "cell_type": "code",
      "execution_count": 10,
      "metadata": {
        "colab": {
          "base_uri": "https://localhost:8080/"
        },
        "id": "icfIj1B8LptO",
        "outputId": "f0b4ae0d-39c4-4c0a-fc83-0d8932e0142f"
      },
      "outputs": [
        {
          "name": "stdout",
          "output_type": "stream",
          "text": [
            "Course Title NOC:Aircraft Structures - I\n"
          ]
        }
      ],
      "source": [
        "course_title = data['data']['title'] ## title of the course\n",
        "lectures_data = data['data']['course_downloads']  ## video url of the course\n",
        "lectures_transcript = data['data']['transcripts'] ## lecture transcript of the course\n",
        "print('Course Title' , course_title)"
      ]
    },
    {
      "cell_type": "code",
      "execution_count": 11,
      "metadata": {
        "colab": {
          "base_uri": "https://localhost:8080/"
        },
        "id": "oqFqkM_vMG5S",
        "outputId": "6f7e6572-8696-414c-d829-35cc30accf37"
      },
      "outputs": [
        {
          "data": {
            "text/plain": [
              "[{'title': 'Lecture 01: Introduction',\n",
              "  'url': 'https://media.dev.nptel.ac.in/content/mp4/101/105/101105084/MP4/mod01lec01.mp4',\n",
              "  'mimetype': 'video/mp4',\n",
              "  'lesson_id': '1'},\n",
              " {'title': \"Lecture 02: Introduction (Cont'd)\",\n",
              "  'url': 'https://media.dev.nptel.ac.in/content/mp4/101/105/101105084/MP4/mod01lec02.mp4',\n",
              "  'mimetype': 'video/mp4',\n",
              "  'lesson_id': '2'},\n",
              " {'title': \"Lecture 03: Introduction (Cont'd)\",\n",
              "  'url': 'https://media.dev.nptel.ac.in/content/mp4/101/105/101105084/MP4/mod01lec03.mp4',\n",
              "  'mimetype': 'video/mp4',\n",
              "  'lesson_id': '3'},\n",
              " {'title': 'Lecture 04: Load Encountered by a Typical Aircraft',\n",
              "  'url': 'https://media.dev.nptel.ac.in/content/mp4/101/105/101105084/MP4/mod01lec04.mp4',\n",
              "  'mimetype': 'video/mp4',\n",
              "  'lesson_id': '4'},\n",
              " {'title': 'Lecture 05: Conceptual Structural Details of a Typical Aircraft',\n",
              "  'url': 'https://media.dev.nptel.ac.in/content/mp4/101/105/101105084/MP4/mod01lec05.mp4',\n",
              "  'mimetype': 'video/mp4',\n",
              "  'lesson_id': '5'}]"
            ]
          },
          "execution_count": 11,
          "metadata": {},
          "output_type": "execute_result"
        }
      ],
      "source": [
        "lectures_data[:5] # one instance of lectures_data"
      ]
    },
    {
      "cell_type": "code",
      "execution_count": 12,
      "metadata": {
        "colab": {
          "base_uri": "https://localhost:8080/"
        },
        "id": "kT1oFQUnMwMJ",
        "outputId": "72b5d95f-81df-4f70-bdbc-cdbb83a8c80d"
      },
      "outputs": [
        {
          "name": "stdout",
          "output_type": "stream",
          "text": [
            "{'downloads': [{'language': 'english-Verified',\n",
            "                'url': 'https://drive.google.com/file/d/1y8qq758GzC0A5iFLte2E1CoWumJ09foR/view'},\n",
            "               {'language': 'bengali', 'url': None},\n",
            "               {'language': 'gujarati', 'url': None},\n",
            "               {'language': 'hindi', 'url': None},\n",
            "               {'language': 'kannada', 'url': None},\n",
            "               {'language': 'malayalam', 'url': None},\n",
            "               {'language': 'marathi', 'url': None},\n",
            "               {'language': 'tamil', 'url': None},\n",
            "               {'language': 'telugu', 'url': None},\n",
            "               {'language': 'punjabi', 'url': None},\n",
            "               {'language': 'odiya', 'url': None},\n",
            "               {'language': 'assamese', 'url': None}],\n",
            " 'lesson_id': '1',\n",
            " 'title': 'Lecture 01: Introduction'}\n"
          ]
        }
      ],
      "source": [
        "pprint.pprint(lectures_transcript[0])"
      ]
    },
    {
      "cell_type": "markdown",
      "metadata": {
        "id": "EqjHPQTmNtYw"
      },
      "source": [
        "### Creating Directory for Lectures and Downloading Lecture."
      ]
    },
    {
      "cell_type": "code",
      "execution_count": 12,
      "metadata": {
        "id": "sYh6pFS9lju1"
      },
      "outputs": [],
      "source": []
    },
    {
      "cell_type": "code",
      "execution_count": 14,
      "metadata": {
        "colab": {
          "base_uri": "https://localhost:8080/"
        },
        "id": "ZawOPSlMNUiO",
        "outputId": "4e438b7a-7518-4a21-ddd1-6e7c78d4b397"
      },
      "outputs": [
        {
          "name": "stdout",
          "output_type": "stream",
          "text": [
            "Downloaded: NOC:Aircraft Structures - I_videos/Lecture 01: Introduction.mp4\n"
          ]
        }
      ],
      "source": [
        "video_path = data['data']['title'] + '_videos' \n",
        "os.makedirs(video_path, exist_ok=True)  \n",
        "for lecture in lectures_data[:n_files]:\n",
        "    url = lecture['url']\n",
        "    filename = lecture['title']\n",
        "\n",
        "    output_path = os.path.join(video_path, f\"{filename}.mp4\")  \n",
        "\n",
        "    try:\n",
        "        subprocess.run(\n",
        "            [\"yt-dlp\", \"-o\", output_path, url], check=True\n",
        "        )\n",
        "        print(f\"Downloaded: {output_path}\")\n",
        "    except subprocess.CalledProcessError as e:\n",
        "        print(f\"Error downloading {url}: {e}\")"
      ]
    },
    {
      "cell_type": "markdown",
      "metadata": {
        "id": "oPd7zm8jPlgN"
      },
      "source": [
        "### Making Directories for Transcript Pdf For each language"
      ]
    },
    {
      "cell_type": "code",
      "execution_count": 15,
      "metadata": {
        "id": "vCn4mFyKdwok"
      },
      "outputs": [],
      "source": [
        "def create_folder(path):\n",
        "    try:\n",
        "        if not os.path.exists(path):\n",
        "            os.mkdir(path)\n",
        "        else :\n",
        "            shutil.rmtree(path)\n",
        "            os.mkdir(path)\n",
        "\n",
        "        print(f\"Created folder: {path}\")\n",
        "    except FileExistsError:\n",
        "        print(f\"Folder already exists: {path}\")"
      ]
    },
    {
      "cell_type": "code",
      "execution_count": 16,
      "metadata": {
        "colab": {
          "base_uri": "https://localhost:8080/"
        },
        "id": "XhZcdkFdPPQo",
        "outputId": "725743fb-1bd8-4484-87f5-bd86ed21caeb"
      },
      "outputs": [
        {
          "name": "stdout",
          "output_type": "stream",
          "text": [
            "Created folder: NOC:Aircraft Structures - I_transcripts_pdfs\n",
            "Created folder: NOC:Aircraft Structures - I_transcripts_pdfs\n",
            "Created folder: NOC:Aircraft Structures - I_transcripts_pdfs/english-Verified_transcripts_pdfs\n",
            "Created folder: NOC:Aircraft Structures - I_transcripts_pdfs/bengali_transcripts_pdfs\n",
            "Created folder: NOC:Aircraft Structures - I_transcripts_pdfs/gujarati_transcripts_pdfs\n",
            "Created folder: NOC:Aircraft Structures - I_transcripts_pdfs/hindi_transcripts_pdfs\n",
            "Created folder: NOC:Aircraft Structures - I_transcripts_pdfs/kannada_transcripts_pdfs\n",
            "Created folder: NOC:Aircraft Structures - I_transcripts_pdfs/malayalam_transcripts_pdfs\n",
            "Created folder: NOC:Aircraft Structures - I_transcripts_pdfs/marathi_transcripts_pdfs\n",
            "Created folder: NOC:Aircraft Structures - I_transcripts_pdfs/tamil_transcripts_pdfs\n",
            "Created folder: NOC:Aircraft Structures - I_transcripts_pdfs/telugu_transcripts_pdfs\n",
            "Created folder: NOC:Aircraft Structures - I_transcripts_pdfs/punjabi_transcripts_pdfs\n",
            "Created folder: NOC:Aircraft Structures - I_transcripts_pdfs/odiya_transcripts_pdfs\n",
            "Created folder: NOC:Aircraft Structures - I_transcripts_pdfs/assamese_transcripts_pdfs\n"
          ]
        }
      ],
      "source": [
        "transcript_pdf_path = course_title + '_transcripts_pdfs'\n",
        "create_folder(transcript_pdf_path)\n",
        "\n",
        "\n",
        "languages_transcript = {}\n",
        "for lang in lectures_transcript[0]['downloads']:\n",
        "    languages_transcript[lang['language']] = []\n",
        "\n",
        "\n",
        "languages_transcript\n",
        "path = os.path.join(course_title + '_transcripts_pdfs')\n",
        "\n",
        "\n",
        "create_folder(path)\n",
        "\n",
        "\n",
        "for language in languages_transcript.keys() :\n",
        "    folder_path = os.path.join(path, f\"{language}_transcripts_pdfs\")\n",
        "    try :\n",
        "        create_folder(folder_path)\n",
        "    except Exception as e:\n",
        "        print(f\"Error creating folder {folder_path}: {e}\")"
      ]
    },
    {
      "cell_type": "code",
      "execution_count": null,
      "metadata": {
        "id": "RkSnlZqMP70i"
      },
      "outputs": [],
      "source": [
        "# !rm -rf '/content/NOC:Deep Learning_transcripts_pdfs'"
      ]
    },
    {
      "cell_type": "markdown",
      "metadata": {
        "id": "4DWZwLZ7cISm"
      },
      "source": [
        "### Downloading pdf Transcript"
      ]
    },
    {
      "cell_type": "code",
      "execution_count": 17,
      "metadata": {
        "colab": {
          "base_uri": "https://localhost:8080/"
        },
        "collapsed": true,
        "id": "mU6tn8euToE6",
        "outputId": "d6034b09-1ead-4ff2-95bc-e8b53f56f4ef"
      },
      "outputs": [
        {
          "name": "stdout",
          "output_type": "stream",
          "text": [
            "Downloaded: NOC:Aircraft Structures - I_transcripts_pdfs/english-Verified_transcripts_pdfs/Lecture 01: Introduction.pdf\n"
          ]
        }
      ],
      "source": [
        "import os\n",
        "import requests\n",
        "from concurrent.futures import ThreadPoolExecutor\n",
        "\n",
        "transcript_pdf_path = course_title + '_transcripts_pdfs'\n",
        "\n",
        "# Function to download a single file\n",
        "def download_file(download_data):\n",
        "    url, output_path = download_data\n",
        "    try:\n",
        "        # Make sure the folder exists\n",
        "        os.makedirs(os.path.dirname(output_path), exist_ok=True)\n",
        "\n",
        "        # Download the file\n",
        "        response = requests.get(url)\n",
        "        response.raise_for_status()  # Ensure we got a valid response\n",
        "\n",
        "        with open(output_path, 'wb') as f:\n",
        "            f.write(response.content)\n",
        "\n",
        "        print(f\"Downloaded: {output_path}\")\n",
        "    except Exception as e:\n",
        "        print(f\"Error downloading {url}: {e}\")\n",
        "\n",
        "download_list = []\n",
        "for lecture in lectures_transcript[:n_files]:\n",
        "    lecture_title = lecture['title']\n",
        "    for lang in lecture['downloads']:\n",
        "        url_view = lang['url']\n",
        "        language = lang['language']\n",
        "\n",
        "        if url_view:\n",
        "            url_raw_comp = url_view.split('/')\n",
        "            file_id = url_raw_comp[-2]\n",
        "            url = f\"https://drive.google.com/uc?id={file_id}&export=download\"\n",
        "\n",
        "            output_path = os.path.join(transcript_pdf_path, f\"{language}_transcripts_pdfs\", f\"{lecture_title}.pdf\")\n",
        "            download_list.append((url, output_path))\n",
        "\n",
        "# Use ThreadPoolExecutor for parallel downloads\n",
        "with ThreadPoolExecutor(max_workers=10) as executor:\n",
        "    executor.map(download_file, download_list)"
      ]
    },
    {
      "cell_type": "code",
      "execution_count": null,
      "metadata": {
        "id": "Xrv7YKGmykfv"
      },
      "outputs": [],
      "source": []
    },
    {
      "cell_type": "code",
      "execution_count": 10,
      "metadata": {
        "colab": {
          "base_uri": "https://localhost:8080/",
          "height": 36
        },
        "id": "XglOXR9slzH0",
        "outputId": "e7449572-04a3-4d60-bad7-07345f2bf9f8"
      },
      "outputs": [
        {
          "data": {
            "application/vnd.google.colaboratory.intrinsic+json": {
              "type": "string"
            },
            "text/plain": [
              "'NOC:Deep Learning_transcripts_pdfs'"
            ]
          },
          "execution_count": 10,
          "metadata": {},
          "output_type": "execute_result"
        }
      ],
      "source": [
        "# /content/NOC:Deep Learning_transcripts_pdfs\n",
        "path"
      ]
    },
    {
      "cell_type": "markdown",
      "metadata": {
        "id": "Z1dWXixecQ0w"
      },
      "source": [
        "### Checking number of pdf file for each language"
      ]
    },
    {
      "cell_type": "code",
      "execution_count": 18,
      "metadata": {
        "colab": {
          "base_uri": "https://localhost:8080/"
        },
        "id": "5uUUIGocTwvO",
        "outputId": "d549381f-4e53-4d8f-e605-86b49171e2cd"
      },
      "outputs": [
        {
          "name": "stdout",
          "output_type": "stream",
          "text": [
            "Folder: kannada_transcripts_pdfs, Number of files: 0\n",
            "Folder: malayalam_transcripts_pdfs, Number of files: 0\n",
            "Folder: hindi_transcripts_pdfs, Number of files: 0\n",
            "Folder: odiya_transcripts_pdfs, Number of files: 0\n",
            "Folder: marathi_transcripts_pdfs, Number of files: 0\n",
            "Folder: punjabi_transcripts_pdfs, Number of files: 0\n",
            "Folder: assamese_transcripts_pdfs, Number of files: 0\n",
            "Folder: gujarati_transcripts_pdfs, Number of files: 0\n",
            "Folder: english-Verified_transcripts_pdfs, Number of files: 1\n",
            "Folder: telugu_transcripts_pdfs, Number of files: 0\n",
            "Folder: bengali_transcripts_pdfs, Number of files: 0\n",
            "Folder: tamil_transcripts_pdfs, Number of files: 0\n"
          ]
        }
      ],
      "source": [
        "# root_folder = '/content/NOC:Deep Learning_videos_transcripts_pdfs'\n",
        "transcript_pdf_path = course_title + '_transcripts_pdfs'\n",
        "\n",
        "\n",
        "for folder_name in os.listdir(transcript_pdf_path):\n",
        "    folder_path = os.path.join(transcript_pdf_path, folder_name)\n",
        "\n",
        "    if os.path.isdir(folder_path):\n",
        "        # Count the number of files in the folder\n",
        "        file_count = len([f for f in os.listdir(folder_path) if os.path.isfile(os.path.join(folder_path, f))])\n",
        "        print(f\"Folder: {folder_name}, Number of files: {file_count}\")"
      ]
    },
    {
      "cell_type": "markdown",
      "metadata": {
        "id": "cCMrohTQdhbW"
      },
      "source": [
        "### Download Audio file"
      ]
    },
    {
      "cell_type": "markdown",
      "metadata": {},
      "source": [
        "asynchronous requests"
      ]
    },
    {
      "cell_type": "code",
      "execution_count": 19,
      "metadata": {
        "collapsed": true,
        "id": "nRL1QFcYWYGn"
      },
      "outputs": [],
      "source": [
        "# import os\n",
        "# import asyncio\n",
        "# import aiohttp\n",
        "# import subprocess\n",
        "\n",
        "# audios_path = course_title + '____test_audios_mp3'  # Define the path for the audio files\n",
        "# create_folder(audios_path)  # Create the folder if it doesn't exist\n",
        "\n",
        "# # Function to run yt-dlp for audio extraction\n",
        "# def download_audio_with_yt_dlp(url, output_path):\n",
        "#     try:\n",
        "#         subprocess.run(\n",
        "#             [\n",
        "#                 \"yt-dlp\",\n",
        "#                 \"-x\",  # Extract audio only\n",
        "#                 \"--audio-format\", \"mp3\",  # Specify audio format (e.g., mp3)\n",
        "#                 \"-o\", output_path,  # Specify output path\n",
        "#                 url\n",
        "#             ],\n",
        "#             check=True\n",
        "#         )\n",
        "#         print(f\"Audio downloaded: {output_path}\")\n",
        "#     except subprocess.CalledProcessError as e:\n",
        "#         print(f\"Error downloading {url}: {e}\")\n",
        "\n",
        "# # Asynchronous function to handle each lecture download\n",
        "# async def download_audio_async(session, url, output_path):\n",
        "#     try:\n",
        "#         # Perform the download using yt-dlp (synchronously)\n",
        "#         download_audio_with_yt_dlp(url, output_path)\n",
        "#     except Exception as e:\n",
        "#         print(f\"Error downloading {url}: {e}\")\n",
        "\n",
        "# # Asynchronous function to download all audios in parallel\n",
        "# async def download_all_audios():\n",
        "#     async with aiohttp.ClientSession() as session:\n",
        "#         tasks = []\n",
        "#         for lecture in lectures_data:\n",
        "#             url = lecture['url']\n",
        "#             filename = lecture['title']\n",
        "#             output_path = os.path.join(audios_path, f\"{filename}.mp3\")\n",
        "#             task = download_audio_async(session, url, output_path)\n",
        "#             tasks.append(task)\n",
        "#         await asyncio.gather(*tasks)\n",
        "\n",
        "# # Directly run the asynchronous download function in the existing event loop (for Colab)\n",
        "# await download_all_audios()"
      ]
    },
    {
      "cell_type": "code",
      "execution_count": 20,
      "metadata": {
        "id": "9qbI2u35ytGv"
      },
      "outputs": [],
      "source": [
        "# !rm -rf '/content/NOC:Deep Learning_test_audios_mp3'\n",
        "# !rm -rf '/content/NOC:Deep Learning_test_audios_mp3'\n",
        "# !rm -rf '/content/NOC:Deep Learning____test_audios_mp3'"
      ]
    },
    {
      "cell_type": "code",
      "execution_count": 21,
      "metadata": {
        "colab": {
          "base_uri": "https://localhost:8080/"
        },
        "collapsed": true,
        "id": "-SPvMEoUYImw",
        "outputId": "1ccc2ff7-cade-4559-b82f-5e1e77600f47"
      },
      "outputs": [
        {
          "name": "stdout",
          "output_type": "stream",
          "text": [
            "Created folder: NOC:Aircraft Structures - I_test_audios_mp3\n",
            "Audio downloaded: NOC:Aircraft Structures - I_test_audios_mp3/Lecture 01: Introduction.mp3\n"
          ]
        }
      ],
      "source": [
        "import os\n",
        "import subprocess\n",
        "\n",
        "# Define the path for the audio files\n",
        "audios_path = course_title + '_test_audios_mp3'\n",
        "\n",
        "# Create the folder if it doesn't exist\n",
        "create_folder(audios_path)\n",
        "\n",
        "# Function to run yt-dlp for audio extraction\n",
        "def download_audio_with_yt_dlp(url, output_path):\n",
        "    try:\n",
        "        subprocess.run(\n",
        "            [\n",
        "                \"yt-dlp\",\n",
        "                \"-x\",  \n",
        "                \"--audio-format\", \"mp3\", \n",
        "                \"-o\", output_path, \n",
        "                url\n",
        "            ],\n",
        "            check=True\n",
        "        )\n",
        "        print(f\"Audio downloaded: {output_path}\")\n",
        "    except subprocess.CalledProcessError as e:\n",
        "        print(f\"Error downloading {url}: {e}\")\n",
        "\n",
        "\n",
        "\n",
        "def download_all_audios_sequentially():\n",
        "    for lecture in lectures_data[:n_files]:\n",
        "        url = lecture['url']\n",
        "        filename = lecture['title']\n",
        "        output_path = os.path.join(audios_path, f\"{filename}.mp3\")\n",
        "        download_audio_with_yt_dlp(url, output_path)\n",
        "\n",
        "\n",
        "download_all_audios_sequentially()"
      ]
    },
    {
      "cell_type": "markdown",
      "metadata": {
        "id": "ZlZPhHEuHLhi"
      },
      "source": [
        "## TASK - 2\n",
        "### Converting the mp3 to  WAV format, with 16KHz sampling rate, mono channel format."
      ]
    },
    {
      "cell_type": "code",
      "execution_count": 22,
      "metadata": {
        "colab": {
          "base_uri": "https://localhost:8080/"
        },
        "id": "ZD9ipmcJ-PE3",
        "outputId": "459ec696-5086-4279-92ce-b47e971ac080"
      },
      "outputs": [
        {
          "name": "stdout",
          "output_type": "stream",
          "text": [
            "#!/bin/bash\n",
            "\n",
            "# Ensure the script exits on errors and undefined variables\n",
            "set -e\n",
            "set -u\n",
            "\n",
            "# Function to display usage instructions\n",
            "usage() {\n",
            "    echo \"Usage: $0 <input_directory> <output_directory> <num_cpus>\"\n",
            "    exit 1\n",
            "}\n",
            "\n",
            "# Check for correct number of arguments\n",
            "if [ \"$#\" -ne 3 ]; then\n",
            "    usage\n",
            "fi\n",
            "\n",
            "# Read user inputs\n",
            "INPUT_DIR=\"$1\"\n",
            "OUTPUT_DIR=\"$2\"\n",
            "NUM_CPUS=\"$3\"\n",
            "\n",
            "# Check if input directory exists\n",
            "if [ ! -d \"$INPUT_DIR\" ]; then\n",
            "    echo \"Error: Input directory '$INPUT_DIR' does not exist.\"\n",
            "    exit 1\n",
            "fi\n",
            "\n",
            "# Create output directory if it doesn't exist\n",
            "mkdir -p \"$OUTPUT_DIR\"\n",
            "\n",
            "# Function to process a single file\n",
            "process_file() {\n",
            "    local input_file=\"$1\"\n",
            "    local output_dir=\"$2\"\n",
            "    local base_name\n",
            "    base_name=$(basename \"$input_file\" | sed 's/\\.[^.]*$//') # Strip extension\n",
            "    local output_file=\"${output_dir}/${base_name}.wav\"\n",
            "\n",
            "    # Convert audio file to WAV format with 16KHz sampling rate and mono channel\n",
            "    ffmpeg -i \"$input_file\" -ar 16000 -ac 1 \"$output_file\" -y\n",
            "}\n",
            "\n",
            "# Export the function for parallel execution\n",
            "export -f process_file\n",
            "\n",
            "# Find all audio files in the input directory and process them in parallel\n",
            "find \"$INPUT_DIR\" -type f -print0 | \\\n",
            "    xargs -0 -n 1 -P \"$NUM_CPUS\" -I {} bash -c 'process_file \"$@\"' _ {} \"$OUTPUT_DIR\"\n",
            "\n",
            "echo \"Processing completed. Processed files are saved in '$OUTPUT_DIR'.\"\n"
          ]
        }
      ],
      "source": [
        "!cat \"/content/drive/MyDrive/preprocess_audios.sh\""
      ]
    },
    {
      "cell_type": "code",
      "execution_count": 23,
      "metadata": {
        "colab": {
          "base_uri": "https://localhost:8080/"
        },
        "id": "fQHSxlJIF2bW",
        "outputId": "343edbd5-01dc-4712-f72e-06d2a2c6f867"
      },
      "outputs": [
        {
          "name": "stdout",
          "output_type": "stream",
          "text": [
            "Created folder: NOC:Aircraft Structures - I_test_audios_wav\n"
          ]
        }
      ],
      "source": [
        "output_dir = course_title + '_test_audios_wav'\n",
        "create_folder(output_dir)"
      ]
    },
    {
      "cell_type": "code",
      "execution_count": 25,
      "metadata": {
        "colab": {
          "base_uri": "https://localhost:8080/"
        },
        "collapsed": true,
        "id": "MBv0gPGYIEBT",
        "outputId": "4610bebf-f24e-47dc-9006-62314bb04f98"
      },
      "outputs": [
        {
          "name": "stdout",
          "output_type": "stream",
          "text": [
            "xargs: warning: options --max-args and --replace/-I/-i are mutually exclusive, ignoring previous --max-args value\n",
            "ffmpeg version 4.4.2-0ubuntu0.22.04.1 Copyright (c) 2000-2021 the FFmpeg developers\n",
            "  built with gcc 11 (Ubuntu 11.2.0-19ubuntu1)\n",
            "  configuration: --prefix=/usr --extra-version=0ubuntu0.22.04.1 --toolchain=hardened --libdir=/usr/lib/x86_64-linux-gnu --incdir=/usr/include/x86_64-linux-gnu --arch=amd64 --enable-gpl --disable-stripping --enable-gnutls --enable-ladspa --enable-libaom --enable-libass --enable-libbluray --enable-libbs2b --enable-libcaca --enable-libcdio --enable-libcodec2 --enable-libdav1d --enable-libflite --enable-libfontconfig --enable-libfreetype --enable-libfribidi --enable-libgme --enable-libgsm --enable-libjack --enable-libmp3lame --enable-libmysofa --enable-libopenjpeg --enable-libopenmpt --enable-libopus --enable-libpulse --enable-librabbitmq --enable-librubberband --enable-libshine --enable-libsnappy --enable-libsoxr --enable-libspeex --enable-libsrt --enable-libssh --enable-libtheora --enable-libtwolame --enable-libvidstab --enable-libvorbis --enable-libvpx --enable-libwebp --enable-libx265 --enable-libxml2 --enable-libxvid --enable-libzimg --enable-libzmq --enable-libzvbi --enable-lv2 --enable-omx --enable-openal --enable-opencl --enable-opengl --enable-sdl2 --enable-pocketsphinx --enable-librsvg --enable-libmfx --enable-libdc1394 --enable-libdrm --enable-libiec61883 --enable-chromaprint --enable-frei0r --enable-libx264 --enable-shared\n",
            "  libavutil      56. 70.100 / 56. 70.100\n",
            "  libavcodec     58.134.100 / 58.134.100\n",
            "  libavformat    58. 76.100 / 58. 76.100\n",
            "  libavdevice    58. 13.100 / 58. 13.100\n",
            "  libavfilter     7.110.100 /  7.110.100\n",
            "  libswscale      5.  9.100 /  5.  9.100\n",
            "  libswresample   3.  9.100 /  3.  9.100\n",
            "  libpostproc    55.  9.100 / 55.  9.100\n",
            "Input #0, mp3, from '/content/NOC:Aircraft Structures - I_test_audios_mp3/Lecture 01: Introduction.mp3':\n",
            "  Metadata:\n",
            "    major_brand     : mp42\n",
            "    minor_version   : 0\n",
            "    compatible_brands: mp42mp41\n",
            "    encoder         : Lavf58.76.100\n",
            "  Duration: 00:35:25.87, start: 0.023021, bitrate: 75 kb/s\n",
            "  Stream #0:0: Audio: mp3, 48000 Hz, stereo, fltp, 75 kb/s\n",
            "    Metadata:\n",
            "      encoder         : Lavc58.13\n",
            "Stream mapping:\n",
            "  Stream #0:0 -> #0:0 (mp3 (mp3float) -> pcm_s16le (native))\n",
            "Press [q] to stop, [?] for help\n",
            "Output #0, wav, to '/content/NOC:Aircraft Structures - I_test_audios_wav/Lecture 01: Introduction.wav':\n",
            "  Metadata:\n",
            "    major_brand     : mp42\n",
            "    minor_version   : 0\n",
            "    compatible_brands: mp42mp41\n",
            "    ISFT            : Lavf58.76.100\n",
            "  Stream #0:0: Audio: pcm_s16le ([1][0][0][0] / 0x0001), 16000 Hz, mono, s16, 256 kb/s\n",
            "    Metadata:\n",
            "      encoder         : Lavc58.134.100 pcm_s16le\n",
            "size=   66433kB time=00:35:25.84 bitrate= 256.0kbits/s speed= 590x    \n",
            "video:0kB audio:66433kB subtitle:0kB other streams:0kB global headers:0kB muxing overhead: 0.000115%\n",
            "Processing completed. Processed files are saved in '/content/NOC:Aircraft Structures - I_test_audios_wav'.\n"
          ]
        }
      ],
      "source": [
        "!chmod +x /content/drive/MyDrive/preprocess_audios.sh\n",
        "!/content/drive/MyDrive/preprocess_audios.sh '/content/NOC:Aircraft Structures - I_test_audios_mp3' '/content/NOC:Aircraft Structures - I_test_audios_wav' 2"
      ]
    },
    {
      "cell_type": "markdown",
      "metadata": {
        "id": "najd9gHGaQMx"
      },
      "source": [
        "### Preprocessing sound\n",
        "\n",
        "#### I am clipping the sound of Instruments before 10 sec and last 30 sec."
      ]
    },
    {
      "cell_type": "code",
      "execution_count": 26,
      "metadata": {
        "colab": {
          "base_uri": "https://localhost:8080/"
        },
        "id": "lYdjG9FsHVgK",
        "outputId": "f5c5a94d-0b78-48a9-a24e-9abd41466c6d"
      },
      "outputs": [
        {
          "name": "stdout",
          "output_type": "stream",
          "text": [
            "Created folder: /content/Audio_trimmed_wav\n",
            "Lecture 01: Introduction.wav -> /content/Audio_trimmed_wav/Lecture 01: Introduction.wav\n",
            "Trimming complete!\n",
            "--- 0.1356062889099121 seconds ---\n"
          ]
        }
      ],
      "source": [
        "start_time = time.time()\n",
        "input_dir = '/content/' + course_title + '_test_audios_wav'\n",
        "output_dir = \"/content/Audio_trimmed_wav\"\n",
        "\n",
        "\n",
        "create_folder(output_dir)\n",
        "\n",
        "\n",
        "def process_audio(filename):\n",
        "    if filename.endswith(\".wav\"):\n",
        "        input_path = os.path.join(input_dir, filename)\n",
        "        output_path = os.path.join(output_dir, f\"{filename}\")\n",
        "\n",
        "        # Load the audio file\n",
        "        audio = AudioSegment.from_wav(input_path)\n",
        "\n",
        "        duration_ms = len(audio)  # Total duration in milliseconds\n",
        "        start_trim = 10 * 1000  # 10 seconds in milliseconds\n",
        "        end_trim = duration_ms - (30 * 1000)  # Remove last 30 seconds\n",
        "\n",
        "        # Trimming\n",
        "        trimmed_audio = audio[start_trim:end_trim]\n",
        "\n",
        "        trimmed_audio.export(output_path, format=\"wav\")\n",
        "        print(f\"{filename} -> {output_path}\")\n",
        "\n",
        "\n",
        "\n",
        "wav_files = [filename for filename in os.listdir(input_dir) if filename.endswith(\".wav\")]\n",
        "\n",
        "\n",
        "with ProcessPoolExecutor() as executor:\n",
        "    executor.map(process_audio, wav_files)\n",
        "\n",
        "print(\"Trimming complete!\")\n",
        "print(\"--- %s seconds ---\" % (time.time() - start_time))"
      ]
    },
    {
      "cell_type": "markdown",
      "metadata": {
        "id": "Vnap-eQEKMcB"
      },
      "source": [
        "## TASK - 3"
      ]
    },
    {
      "cell_type": "markdown",
      "metadata": {
        "id": "3gPF0k0bQM50"
      },
      "source": [
        "### Extracting text From pdfs files and preprocessing it.\n",
        "\n",
        "\n",
        "\n",
        "*   Extracting text\n",
        "*   Removing punctation\n",
        "*   lower case\n",
        "\n",
        "\n"
      ]
    },
    {
      "cell_type": "code",
      "execution_count": 27,
      "metadata": {
        "colab": {
          "base_uri": "https://localhost:8080/"
        },
        "collapsed": true,
        "id": "DQErJ4s-QMNm",
        "outputId": "b4c1c679-28ba-4cd5-b6b8-e75b813ae3ee"
      },
      "outputs": [
        {
          "name": "stdout",
          "output_type": "stream",
          "text": [
            "Created folder: /content/processed_txt_files\n",
            "Processing language: kannada_transcripts_pdfs\n",
            "Processing language: malayalam_transcripts_pdfs\n",
            "Processing language: hindi_transcripts_pdfs\n",
            "Processing language: odiya_transcripts_pdfs\n",
            "Processing language: marathi_transcripts_pdfs\n",
            "Processing language: punjabi_transcripts_pdfs\n",
            "Processing language: assamese_transcripts_pdfs\n",
            "Processing language: gujarati_transcripts_pdfs\n",
            "Processing language: english-Verified_transcripts_pdfs\n",
            "Processed: /content/NOC:Aircraft Structures - I_transcripts_pdfs/english-Verified_transcripts_pdfs/Lecture 01: Introduction.pdf -> /content/processed_txt_files/english-Verified_transcripts_pdfs_txt_files/Lecture 01: Introduction.txt\n",
            "Processing language: telugu_transcripts_pdfs\n",
            "Processing language: bengali_transcripts_pdfs\n",
            "Processing language: tamil_transcripts_pdfs\n",
            "Processing complete!\n"
          ]
        }
      ],
      "source": [
        "\n",
        "\n",
        "\n",
        "input_dir = \"/content/\" + course_title + \"_transcripts_pdfs\"\n",
        "output_base_dir = \"/content/processed_txt_files\"\n",
        "\n",
        "create_folder(output_base_dir)\n",
        "\n",
        "# Function to process text: lowercase, remove punctuation, and convert digits to words\n",
        "def process_text(text):\n",
        "    text = text.lower()\n",
        "\n",
        "    text = text.translate(str.maketrans(\"\", \"\", string.punctuation))\n",
        "\n",
        "    words = text.split()\n",
        "    processed_words = []\n",
        "\n",
        "    for word in words:\n",
        "        if word.isdigit():  \n",
        "            word = num2words(word)  \n",
        "        processed_words.append(word)\n",
        "\n",
        "    return \" \".join(processed_words)\n",
        "\n",
        "def extract_text_from_pdf(pdf_path):\n",
        "    try:\n",
        "        return extract_text(pdf_path)\n",
        "    except Exception as e:\n",
        "        print(f\"Error extracting text from {pdf_path}: {e}\")\n",
        "        return \"\"\n",
        "\n",
        "\n",
        "def process_language_directory(language_dir, output_language_dir):\n",
        "    os.makedirs(output_language_dir, exist_ok=True)  # Ensure output language directory exists\n",
        "\n",
        "    for filename in os.listdir(language_dir):\n",
        "        if filename.endswith(\".pdf\"):  # Only process PDF files\n",
        "            pdf_path = os.path.join(language_dir, filename)\n",
        "            text = extract_text_from_pdf(pdf_path)\n",
        "\n",
        "            processed_text = process_text(text)\n",
        "\n",
        "            # Save the processed text to a .txt file\n",
        "            output_filename = os.path.splitext(filename)[0] + \".txt\"  # Change extension to .txt\n",
        "            output_path = os.path.join(output_language_dir, output_filename)\n",
        "\n",
        "            with open(output_path, \"w\", encoding=\"utf-8\") as file:\n",
        "                file.write(processed_text)\n",
        "\n",
        "            print(f\"Processed: {pdf_path} -> {output_path}\")\n",
        "\n",
        "def process_all_languages(input_dir, output_base_dir):\n",
        "    for language in os.listdir(input_dir): # all language pdfs\n",
        "        language_dir = os.path.join(input_dir, language) #\n",
        "        output_language_dir = os.path.join(output_base_dir, language + \"_txt_files\")\n",
        "\n",
        "        if os.path.isdir(language_dir):  # Check if it's a directory\n",
        "            print(f\"Processing language: {language}\")\n",
        "            process_language_directory(language_dir, output_language_dir)\n",
        "\n",
        "# Start processing\n",
        "process_all_languages(input_dir, output_base_dir)\n",
        "\n",
        "print(\"Processing complete!\")"
      ]
    },
    {
      "cell_type": "markdown",
      "metadata": {
        "id": "Zi0gOPp9ZLc9"
      },
      "source": [
        "## TASK 4\n",
        "\n",
        "#### Download data in the format for each language available.\n",
        "```\n",
        "{\n",
        "\"audio_filepath\": \"data/courses/106106184/audio/lec_1_2.wav\",\n",
        "\"duration\": 824.4,\n",
        "\"text\": \"some text file.\"\n",
        "}\n",
        "\n",
        "```\n",
        "\n"
      ]
    },
    {
      "cell_type": "code",
      "execution_count": 28,
      "metadata": {
        "colab": {
          "base_uri": "https://localhost:8080/"
        },
        "id": "oHZfI_EZQMJ_",
        "outputId": "95aab91b-4e36-4cd2-fbe2-ad9418eb387a"
      },
      "outputs": [
        {
          "name": "stdout",
          "output_type": "stream",
          "text": [
            "Created folder: /content/json_output\n",
            "/content/json_output/punjabi_transcripts_pdfs_txt_files output dir\n",
            "/content/processed_txt_files/punjabi_transcripts_pdfs_txt_files languate dir\n",
            "Processing language: punjabi_transcripts_pdfs_txt_files\n",
            "Created folder: /content/json_output/punjabi_transcripts_pdfs_txt_files\n",
            "/content/json_output/telugu_transcripts_pdfs_txt_files output dir\n",
            "/content/processed_txt_files/telugu_transcripts_pdfs_txt_files languate dir\n",
            "Processing language: telugu_transcripts_pdfs_txt_files\n",
            "Created folder: /content/json_output/telugu_transcripts_pdfs_txt_files\n",
            "/content/json_output/bengali_transcripts_pdfs_txt_files output dir\n",
            "/content/processed_txt_files/bengali_transcripts_pdfs_txt_files languate dir\n",
            "Processing language: bengali_transcripts_pdfs_txt_files\n",
            "Created folder: /content/json_output/bengali_transcripts_pdfs_txt_files\n",
            "/content/json_output/kannada_transcripts_pdfs_txt_files output dir\n",
            "/content/processed_txt_files/kannada_transcripts_pdfs_txt_files languate dir\n",
            "Processing language: kannada_transcripts_pdfs_txt_files\n",
            "Created folder: /content/json_output/kannada_transcripts_pdfs_txt_files\n",
            "/content/json_output/odiya_transcripts_pdfs_txt_files output dir\n",
            "/content/processed_txt_files/odiya_transcripts_pdfs_txt_files languate dir\n",
            "Processing language: odiya_transcripts_pdfs_txt_files\n",
            "Created folder: /content/json_output/odiya_transcripts_pdfs_txt_files\n",
            "/content/json_output/assamese_transcripts_pdfs_txt_files output dir\n",
            "/content/processed_txt_files/assamese_transcripts_pdfs_txt_files languate dir\n",
            "Processing language: assamese_transcripts_pdfs_txt_files\n",
            "Created folder: /content/json_output/assamese_transcripts_pdfs_txt_files\n",
            "/content/json_output/gujarati_transcripts_pdfs_txt_files output dir\n",
            "/content/processed_txt_files/gujarati_transcripts_pdfs_txt_files languate dir\n",
            "Processing language: gujarati_transcripts_pdfs_txt_files\n",
            "Created folder: /content/json_output/gujarati_transcripts_pdfs_txt_files\n",
            "/content/json_output/hindi_transcripts_pdfs_txt_files output dir\n",
            "/content/processed_txt_files/hindi_transcripts_pdfs_txt_files languate dir\n",
            "Processing language: hindi_transcripts_pdfs_txt_files\n",
            "Created folder: /content/json_output/hindi_transcripts_pdfs_txt_files\n",
            "/content/json_output/tamil_transcripts_pdfs_txt_files output dir\n",
            "/content/processed_txt_files/tamil_transcripts_pdfs_txt_files languate dir\n",
            "Processing language: tamil_transcripts_pdfs_txt_files\n",
            "Created folder: /content/json_output/tamil_transcripts_pdfs_txt_files\n",
            "/content/json_output/malayalam_transcripts_pdfs_txt_files output dir\n",
            "/content/processed_txt_files/malayalam_transcripts_pdfs_txt_files languate dir\n",
            "Processing language: malayalam_transcripts_pdfs_txt_files\n",
            "Created folder: /content/json_output/malayalam_transcripts_pdfs_txt_files\n",
            "/content/json_output/english-Verified_transcripts_pdfs_txt_files output dir\n",
            "/content/processed_txt_files/english-Verified_transcripts_pdfs_txt_files languate dir\n",
            "Processing language: english-Verified_transcripts_pdfs_txt_files\n",
            "Created folder: /content/json_output/english-Verified_transcripts_pdfs_txt_files\n",
            "Processing: /content/Audio_trimmed_wav/Lecture 01: Introduction.wav with /content/processed_txt_files/english-Verified_transcripts_pdfs_txt_files/Lecture 01: Introduction.txt\n",
            "/content/json_output/marathi_transcripts_pdfs_txt_files output dir\n",
            "/content/processed_txt_files/marathi_transcripts_pdfs_txt_files languate dir\n",
            "Processing language: marathi_transcripts_pdfs_txt_files\n",
            "Created folder: /content/json_output/marathi_transcripts_pdfs_txt_files\n",
            "Training manifest files created successfully in '/content/json_output'!\n"
          ]
        }
      ],
      "source": [
        "\n",
        "\n",
        "\n",
        "audio_dir = \"/content/Audio_trimmed_wav\"  # Directory containing audio files\n",
        "transcript_base_dir = \"/content/processed_txt_files\"  # Base directory containing transcript files\n",
        "output_base_dir = \"/content/json_output\"  # Output base directory for the JSON files\n",
        "\n",
        "def get_audio_duration(audio_file):\n",
        "    info = mediainfo(audio_file)\n",
        "    return float(info[\"duration\"])\n",
        "\n",
        "\n",
        "def create_jsonl_for_language(language, transcript_dir, audio_dir, output_language_dir):\n",
        "    create_folder(output_language_dir)\n",
        "\n",
        "    jsonl_manifest_path = os.path.join(output_language_dir, f\"{language}_train_manifest.jsonl\")\n",
        "\n",
        "    with open(jsonl_manifest_path, \"w\", encoding=\"utf-8\") as jsonl_file:\n",
        "        # Iterate through audio files\n",
        "        for audio_file in os.listdir(audio_dir):\n",
        "            if audio_file.endswith(\".wav\"):\n",
        "                # Construct audio file path\n",
        "                audio_path = os.path.join(audio_dir, audio_file)\n",
        "\n",
        "                # Get the corresponding transcript file\n",
        "                base_name = os.path.splitext(audio_file)[0].strip()  # Strip spaces from base name\n",
        "                transcript_path = os.path.join(transcript_dir, f\"{base_name}.txt\")\n",
        "\n",
        "                # Check if the transcript file exists\n",
        "                if os.path.exists(transcript_path):\n",
        "                    print(f\"Processing: {audio_path} with {transcript_path}\")\n",
        "\n",
        "                    with open(transcript_path, \"r\", encoding=\"utf-8\") as transcript_file:\n",
        "                        text = transcript_file.read().strip()\n",
        "\n",
        "                    duration = get_audio_duration(audio_path)\n",
        "\n",
        "                    json_object = {\n",
        "                        \"audio_filepath\": audio_path,\n",
        "                        \"duration\": duration,\n",
        "                        \"text\": text,\n",
        "                    }\n",
        "\n",
        "                    jsonl_file.write(json.dumps(json_object) + \"\\n\")\n",
        "\n",
        "\n",
        "# Function to process all languages\n",
        "def process_all_languages(input_dir, audio_dir, output_base_dir):\n",
        "    for language in os.listdir(input_dir):  # Iterate through all language directories\n",
        "        language_dir = os.path.join(input_dir, language)  # Language directory path\n",
        "        output_language_dir = os.path.join(output_base_dir, language)  # Output folder for the language JSON files\n",
        "        print(output_language_dir , 'output dir')\n",
        "        print(language_dir , 'languate dir')\n",
        "        if os.path.isdir(language_dir):  # Check if it's a directory\n",
        "            print(f\"Processing language: {language}\")\n",
        "            create_jsonl_for_language(language, language_dir, audio_dir, output_language_dir)\n",
        "\n",
        "\n",
        "create_folder(output_base_dir)\n",
        "\n",
        "\n",
        "process_all_languages(transcript_base_dir, audio_dir, output_base_dir)\n",
        "print(f\"Training manifest files created successfully in '{output_base_dir}'!\")"
      ]
    },
    {
      "cell_type": "markdown",
      "metadata": {
        "id": "mDTDeMcNuYat"
      },
      "source": [
        "## TASK 5\n",
        "\n",
        "#### Download data and paste it project folder and give link to the app.py and run the app.py after installing all dependency."
      ]
    },
    {
      "cell_type": "code",
      "execution_count": 58,
      "metadata": {
        "colab": {
          "base_uri": "https://localhost:8080/"
        },
        "id": "VeI-Pb_88bYU",
        "outputId": "7b7dabd9-f137-453b-fd51-6a2c7bf5ce16"
      },
      "outputs": [
        {
          "name": "stdout",
          "output_type": "stream",
          "text": [
            "/bin/bash: line 1: grafana-cli: command not found\n"
          ]
        }
      ],
      "source": []
    },
    {
      "cell_type": "code",
      "execution_count": null,
      "metadata": {
        "id": "aJUK0czpA8s-"
      },
      "outputs": [],
      "source": []
    }
  ],
  "metadata": {
    "colab": {
      "provenance": []
    },
    "kernelspec": {
      "display_name": "Python 3",
      "name": "python3"
    },
    "language_info": {
      "name": "python"
    }
  },
  "nbformat": 4,
  "nbformat_minor": 0
}
